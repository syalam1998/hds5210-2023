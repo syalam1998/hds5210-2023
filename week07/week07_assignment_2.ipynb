{
  "cells": [
    {
      "cell_type": "markdown",
      "metadata": {
        "id": "view-in-github",
        "colab_type": "text"
      },
      "source": [
        "<a href=\"https://colab.research.google.com/github/syalam1998/hds5210-2023/blob/main/week07/week07_assignment_2.ipynb\" target=\"_parent\"><img src=\"https://colab.research.google.com/assets/colab-badge.svg\" alt=\"Open In Colab\"/></a>"
      ]
    },
    {
      "cell_type": "markdown",
      "metadata": {
        "id": "afwVLv0i_Eq5"
      },
      "source": [
        "# Week 7 Assignment\n",
        "\n",
        "We've been working with different types of data structures in Python (dictionary, list, etc), how those are represented in JSON documents, and how to write code to access specific data elements. In this week's assignment, you will need to create your own JSON document to store information about yourself and the grades you've received from week 1 to week 4 and the week 6 quiz.  That is, everything you should have received a grade for.  Then you'll need to show me you know how to navigate the JSON in that file.\n",
        "\n",
        "Different from what we've done in the past, you do not have to write any functions or include any docstrings.  Just create some JSON and write some code.\n",
        "\n",
        "---"
      ]
    },
    {
      "cell_type": "markdown",
      "metadata": {
        "id": "HaqvG4OM_Eq6"
      },
      "source": [
        "## 7.1 Create a JSON string\n",
        "\n",
        "Create a JSON string that contains your name, email, year you were born, all of the grades you've received back so far, and a comment about what you thought was most challenging on each of those assignments.  This can be any structure you choose, but make sure it uses a dictionary and a list, and has at least two levels of hierarchy.  That is, it can't just be one big long list."
      ]
    },
    {
      "cell_type": "markdown",
      "metadata": {
        "id": "0UY1QTgg_Eq9"
      },
      "source": [
        "First, explain how your data structure is going to look..."
      ]
    },
    {
      "cell_type": "markdown",
      "metadata": {
        "id": "qiAm-KSH_Eq9"
      },
      "source": [
        "Hi Professor,\n",
        "\n",
        "I am going to create a data structure with the fields- name, email, year_born, interests and assignments.\n",
        "I added my name, email and year_born as given. Addiionally I mentioned all my hobbies in a list.\n",
        "Next, In \"assignments\" field, I am going to create fields - assignment, grade, challenge_faced, solution. I mentioned my grade, the challenge I faced and the solution I came up with. I didn't get grade for the week 6 quiz, So I did not mention it here."
      ]
    },
    {
      "cell_type": "markdown",
      "metadata": {
        "id": "qalr6QPd_Eq9"
      },
      "source": [
        "Then put the actual JSON you've created inside the multiline string below..."
      ]
    },
    {
      "cell_type": "code",
      "execution_count": 9,
      "metadata": {
        "id": "x1NeYdlN_Eq9"
      },
      "outputs": [],
      "source": [
        "hds5210 = \"\"\"\n",
        "{\n",
        "    \"Me\" :\n",
        "    {\n",
        "        \"name\" : \"Snigdha Reddy\",\n",
        "        \"email\" : \"Snigdha.yalam@slu.edu\",\n",
        "        \"year_born\" : \"1998\",\n",
        "        \"interests\" : [\"Playing music\", \"Watching movies\", \"Learning new technologies\"],\n",
        "\n",
        "        \"assignments\" : [\n",
        "        {\n",
        "            \"assignment\": 1,\n",
        "            \"grade\": \"5/10\",\n",
        "            \"challenge_faced\": \"In this first week of assignment, I got completely confused with the tasks given. I completed the task given that is to authorize github with google collab and I did that but I failed to upload that file from google collab to github which made me lose half of the points that took a drastic change in my overall grade in this course.\",\n",
        "            \"solution\" : \"From the result I have seen in this week. I realized my mistake of not going through all the requirements of the tasks given. So from then, I used to sepnd more time on the question and understand it completely before writing the code.\"\n",
        "        },\n",
        "        {\n",
        "            \"assignment\": 2,\n",
        "            \"grade\": \"9/10\",\n",
        "            \"challenge_faced\": \"In this week, I really faced so much difficulty because I am a newbie to python. Even though these are small BMI calculations functions, It took so much time for me as I am completely new to this programming language. But stil I managed to ace this week's assignment with the help of lecture videos\",\n",
        "            \"solution\" : \"In this week's assignemnt, I realized that I have very less knowledge on python programming language. So from then I soent extra time and gone through many youtube tutorials related to python programming language.\"\n",
        "        },\n",
        "        {\n",
        "            \"assignment\": 3,\n",
        "            \"grade\": \"8.5/10\",\n",
        "            \"challenge_faced\": \"In this week, I am able to complete all the questions without any difficulty because of the lecture videos given and I managed to complete all the questions given in the assignment. But the last one costed me more time as it was little lengthy, Except that one everything went smoothly.\",\n",
        "            \"solution\" : \"I realized that I get confused over lengthy codes. So I started to practice more questions on python parallely going through the lectures\"\n",
        "        },\n",
        "        {\n",
        "            \"assignment\": 4,\n",
        "            \"grade\": \"10/10\",\n",
        "            \"challenge_faced\": \"In this assignment, I did not face any challanges as I became very familiar to almost all type of functions in python notebook as a result of me practicing extra coding questions. But conversion of list to dictionaries took me extra time as it was new conceot for me.\",\n",
        "            \"solution\" : \"I realized that I am little weak in conversion of data types. So I gone through them and still researched what concepts I can learn for future assignments\"\n",
        "        }\n",
        "        ]\n",
        "    }\n",
        "}\n",
        "\"\"\""
      ]
    },
    {
      "cell_type": "markdown",
      "metadata": {
        "id": "Q6TqYMBw_Eq-"
      },
      "source": [
        "## 7.2 Do something with your JSON\n",
        "\n",
        "Now use Python code to do something with the Json above.  Turn it into English text, but make sure that you use at least one loop to access some dict or list content of your JSON.  Below, I've provided some basic code to read in the string above as JSON and return a Python object.  Your job is to work with that data structure and print out the important information like your name, email, and how you did on each assignment."
      ]
    },
    {
      "cell_type": "code",
      "execution_count": 10,
      "metadata": {
        "colab": {
          "base_uri": "https://localhost:8080/"
        },
        "id": "_e5FvaYl_Eq-",
        "outputId": "4362b0dd-277f-494d-9e11-6cf6888f558b"
      },
      "outputs": [
        {
          "output_type": "stream",
          "name": "stdout",
          "text": [
            "I am Snigdha Reddy. My email address is Snigdha.yalam@slu.edu. My hobbies are Playing music, Watching movies, Learning new technologies\n",
            "In this first week of assignment, I got completely confused with the tasks given. I completed the task given that is to authorize github with google collab and I did that but I failed to upload that file from google collab to github which made me lose half of the points that took a drastic change in my overall grade in this course..\n",
            "I got 5/10 in this week. From the result I have seen in this week. I realized my mistake of not going through all the requirements of the tasks given. So from then, I used to sepnd more time on the question and understand it completely before writing the code.\n",
            "In this week, I really faced so much difficulty because I am a newbie to python. Even though these are small BMI calculations functions, It took so much time for me as I am completely new to this programming language. But stil I managed to ace this week's assignment with the help of lecture videos.\n",
            "I got 9/10 in this week. From the result I have seen in this week. I realized my mistake of not going through all the requirements of the tasks given. So from then, I used to sepnd more time on the question and understand it completely before writing the code.\n",
            "In this week, I am able to complete all the questions without any difficulty because of the lecture videos given and I managed to complete all the questions given in the assignment. But the last one costed me more time as it was little lengthy, Except that one everything went smoothly..\n",
            "I got 8.5/10 in this week. I realized that I get confused over lengthy codes. So I started to practice more questions on python parallely going through the lectures\n",
            "In this assignment, I did not face any challanges as I became very familiar to almost all type of functions in python notebook as a result of me practicing extra coding questions. But conversion of list to dictionaries took me extra time as it was new conceot for me..\n",
            "I got 10/10 in this week. I realized that I am little weak in conversion of data types. So I gone through them and still researched what concepts I can learn for future assignments\n",
            "\n"
          ]
        }
      ],
      "source": [
        "import json\n",
        "\n",
        "info = json.loads(hds5210)\n",
        "\n",
        "name = info[\"Me\"][\"name\"]\n",
        "email = info[\"Me\"][\"email\"]\n",
        "born_year = info[\"Me\"][\"year_born\"]\n",
        "hobbies = \", \".join(info[\"Me\"][\"interests\"])\n",
        "grades = [assignment[\"grade\"] for assignment in info[\"Me\"][\"assignments\"]]\n",
        "challenges_list =[assignment[\"challenge_faced\"] for assignment in info[\"Me\"][\"assignments\"]]\n",
        "solutions = [assignment[\"solution\"] for assignment in info[\"Me\"][\"assignments\"]]\n",
        "\n",
        "print(f\"I am {name}. My email address is {email}. My hobbies are {hobbies}\")\n",
        "print(f\"{challenges_list[0]}.\")\n",
        "print(f\"I got {grades[0]} in this week. {solutions[0]}\")\n",
        "print(f\"{challenges_list[1]}.\")\n",
        "print(f\"I got {grades[1]} in this week. {solutions[0]}\")\n",
        "print(f\"{challenges_list[2]}.\")\n",
        "print(f\"I got {grades[2]} in this week. {solutions[2]}\")\n",
        "print(f\"{challenges_list[3]}.\")\n",
        "print(f\"I got {grades[3]} in this week. {solutions[3]}\")\n",
        "print(f\"\")\n",
        "\n"
      ]
    },
    {
      "cell_type": "markdown",
      "metadata": {
        "id": "LMtZN1SY_Eq-"
      },
      "source": [
        "## 7.3 Reflect\n",
        "\n",
        "Write a paragraph on any reflections you have. Was this hard? Easy?  What parts were most challenging or easiest? What did you like or dislike about the assignment?  Share whatever important thoughts you have abou this assignment."
      ]
    },
    {
      "cell_type": "markdown",
      "metadata": {
        "id": "wXs281wT_Eq-"
      },
      "source": [
        "I found this week's assignment very helpful because it allowed me to go through all my previous assignemnts and made me search for my mistakes and also I mentioned solution I came up with for every week. Additionally, I came to know how to effectively use JSON data file in python script. Overall, It was a good experience for me to go through all my grades and challenges I faced every week."
      ]
    },
    {
      "cell_type": "markdown",
      "metadata": {
        "id": "G7fUSggT_Eq_"
      },
      "source": [
        "---\n",
        "\n",
        "# Example\n",
        "\n",
        "Below is an example of something similar, but this uses information my and my friend's kids instead of grades."
      ]
    },
    {
      "cell_type": "code",
      "execution_count": 11,
      "metadata": {
        "colab": {
          "base_uri": "https://localhost:8080/"
        },
        "id": "XxbWw9zG_Eq_",
        "outputId": "4967f1d8-5ced-41f4-e852-53117503c671"
      },
      "outputs": [
        {
          "output_type": "stream",
          "name": "stdout",
          "text": [
            "Hi, my name is Paul. I've got 3 kids. Their names are Ellie, Ada, Teddy.\n",
            "My friend, Anny has 1 kids. That's fewer than me. Their names are 1\n"
          ]
        }
      ],
      "source": [
        "hds5210 = \"\"\"\n",
        "{\n",
        "    \"me\": {\n",
        "        \"name\": \"Paul\",\n",
        "        \"kids\": [\"Ellie\", \"Ada\", \"Teddy\"]\n",
        "    },\n",
        "    \"friend\": {\n",
        "        \"name\": \"Anny\",\n",
        "        \"kids\": [\"Abby\"]\n",
        "    }\n",
        "}\n",
        "\"\"\"\n",
        "\n",
        "import json\n",
        "\n",
        "info = json.loads(hds5210)\n",
        "\n",
        "me = info[\"me\"][\"name\"]\n",
        "my_kids_count = len(info[\"me\"][\"kids\"])\n",
        "kids_list = \", \".join(info[\"me\"][\"kids\"])\n",
        "friend = info[\"friend\"][\"name\"]\n",
        "friends_kid_count = len(info[\"friend\"][\"kids\"])\n",
        "friend_kids = \", \".join(info[\"friend\"][\"kids\"])\n",
        "compare = \"more\" if friends_kid_count > my_kids_count else \"fewer\"\n",
        "\n",
        "print(f\"Hi, my name is {me}. I've got {my_kids_count} kids. Their names are {kids_list}.\")\n",
        "print(f\"My friend, {friend} has {friends_kid_count} kids. That's {compare} than me. Their names are {friends_kid_count}\")"
      ]
    },
    {
      "cell_type": "code",
      "execution_count": 12,
      "metadata": {
        "colab": {
          "base_uri": "https://localhost:8080/"
        },
        "id": "CXklnknS_Eq_",
        "outputId": "f4c8104a-0182-46ba-8981-bb9e3d20e998"
      },
      "outputs": [
        {
          "output_type": "stream",
          "name": "stdout",
          "text": [
            "hello\n"
          ]
        }
      ],
      "source": [
        "print(\"hello\")"
      ]
    }
  ],
  "metadata": {
    "kernelspec": {
      "display_name": "Python 3",
      "language": "python",
      "name": "python3"
    },
    "language_info": {
      "codemirror_mode": {
        "name": "ipython",
        "version": 3
      },
      "file_extension": ".py",
      "mimetype": "text/x-python",
      "name": "python",
      "nbconvert_exporter": "python",
      "pygments_lexer": "ipython3",
      "version": "3.11.6"
    },
    "colab": {
      "provenance": [],
      "include_colab_link": true
    }
  },
  "nbformat": 4,
  "nbformat_minor": 0
}