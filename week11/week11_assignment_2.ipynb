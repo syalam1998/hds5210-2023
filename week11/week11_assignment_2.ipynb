{
  "cells": [
    {
      "cell_type": "markdown",
      "metadata": {
        "id": "view-in-github",
        "colab_type": "text"
      },
      "source": [
        "<a href=\"https://colab.research.google.com/github/syalam1998/hds5210-2023/blob/main/week11/week11_assignment_2.ipynb\" target=\"_parent\"><img src=\"https://colab.research.google.com/assets/colab-badge.svg\" alt=\"Open In Colab\"/></a>"
      ]
    },
    {
      "cell_type": "markdown",
      "metadata": {
        "id": "a9t4sQiw8pa3"
      },
      "source": [
        "# Week 11 Assignment\n",
        "\n",
        "\n",
        "Please do the programming exercise and verify that your code works using the tests, then think about your final project and fill out the questions in the second part.\n",
        "\n",
        "---\n",
        "---"
      ]
    },
    {
      "cell_type": "markdown",
      "metadata": {
        "id": "O2bb-eiB8pa4"
      },
      "source": [
        "### 47.1: Filtering and summarizing data\n",
        "\n",
        "For this work, you'll find a data file in `https://hds5210-data.s3.amazonaws.com/complications_all.csv`.\n",
        "\n",
        "Read in the data file and create a variable called `mo_hospitals` that contains a data frame from the `complications_all.csv` file, filtered down to only contain those hospitals from the state of Missouri (MO).\n",
        "\n",
        "Then aggregate that data by hospital into a variable named `mo_summary`.  There are some key fields that we want to summarize:\n",
        "* We want to know the earliest date that each hospital was participating in any program\n",
        "* We want to know the latest date that each hospital stopped participating in any program\n",
        "* We want to know the total number of patients in the denominators of these programs\n",
        "\n",
        "Some things to note:\n",
        "* You will need to convert the `Start Date` and `End Date` to actual datetime fields\n",
        "* You will need to clean up and convert the `Denominator` field to just be numeric - the rule that you should use it to simply remove any records where the `Denominator` is `'Not Available'`\n",
        "\n",
        "\n",
        "The final result of this step should be a new data frame called `mo_summary` that contains one row for each hospital and contains the min start date, max end date, and total denominator.  Use the names `start_date`, `end_date`, and `number` for those columns in `mo_summary`.\n",
        "\n",
        "\n",
        "You do not need to create your code in the form of a function, just make sure your variable names match what I've described above so the tests work."
      ]
    },
    {
      "cell_type": "code",
      "execution_count": null,
      "metadata": {
        "id": "4jiiHpj_8pa5"
      },
      "outputs": [],
      "source": [
        "import pandas as pd\n",
        "# This is just to show you the name to use for the variable you need to create for this step to pass.\n",
        "all_hospitals = pd.read_csv('https://hds5210-data.s3.amazonaws.com/complications_all.csv')"
      ]
    },
    {
      "cell_type": "code",
      "source": [
        "# These are the only hospitals from missouri state\n",
        "missouri = all_hospitals.loc[all_hospitals['State'] == 'MO'].copy()\n",
        "\n",
        "# Convert the Start Date to actual datetime fields\n",
        "missouri['Start Date'] = pd.to_datetime(missouri['Start Date'])\n",
        "\n",
        "# Convert the End Date to actual datetime fields\n",
        "missouri['End Date'] = pd.to_datetime(missouri['End Date'])\n",
        "\n",
        "# clean up and convert the Denominator field to just be numeric - the rule that you should use it to simply remove any records where the Denominator is 'Not Available'\n",
        "missouri['Denominator'] = pd.to_numeric(missouri['Denominator'], errors='coerce')\n",
        "missouri.dropna(subset=['Denominator'], inplace=True)\n",
        "\n",
        "# Assigning start date, end date, denominator to new variable\n",
        "mo_summary = missouri.groupby('Facility Name').agg(start_date=('Start Date', 'min'),end_date=('End Date', 'max'),number=('Denominator', 'sum')).reset_index().set_index('Facility Name')\n"
      ],
      "metadata": {
        "id": "jPYp8VCvChCq"
      },
      "execution_count": null,
      "outputs": []
    },
    {
      "cell_type": "code",
      "execution_count": null,
      "metadata": {
        "id": "WBECA3xi8pa5"
      },
      "outputs": [],
      "source": [
        "assert(mo_summary['number'].sum() == 1766908)\n",
        "assert(mo_summary['start_date'].min() == pd.Timestamp(2015,4,1))\n",
        "assert(mo_summary['end_date'].max() == pd.Timestamp(2018,6,30))\n",
        "assert(mo_summary.shape == (108,3))\n",
        "assert(mo_summary.loc['BARNES JEWISH HOSPITAL'].number == 131313)\n",
        "assert(mo_summary.loc['BOONE HOSPITAL CENTER'].number == 63099)"
      ]
    },
    {
      "cell_type": "markdown",
      "metadata": {
        "id": "MvD0yQ4U8pa6"
      },
      "source": [
        "---\n",
        "\n",
        "### 47.2 Planning your final project\n",
        "\n",
        "You should be thinking about the things we've been learning and how you can apply them to your final project.  Use the rubric to help guid your thinking and then answer the questions below.  This is meant as a guide to help you think through what you will do."
      ]
    },
    {
      "cell_type": "markdown",
      "metadata": {
        "id": "AqwH3J3f8pa6"
      },
      "source": [
        "#### A) Data Access\n",
        "\n",
        "Your project should include data from at least three distinct types of sources.  For example: AWS S3, Relational Databases, Internet, Web Services, local files.  List what data sources you're planning to use."
      ]
    },
    {
      "cell_type": "markdown",
      "metadata": {
        "id": "Qw7PhiOe8pa6"
      },
      "source": [
        "**Double-click to enter your answer**\n",
        "\n",
        "My selected datasets are related to Diabetes.\n",
        "\n",
        "1.   [Diabetes dataset](https://www.kaggle.com/datasets/mathchi/diabetes-data-set/data)\n",
        "2.   [Diabetes Prediction](https://data.world/informatics-edu/diabetes-prediction/workspace/file?filename=Diabetes_Classification.xlsx)\n",
        "\n"
      ]
    },
    {
      "cell_type": "markdown",
      "metadata": {
        "id": "FptZgEbC8pa6"
      },
      "source": [
        "#### B. Data Formats\n",
        "\n",
        "Your project should include data that comes in different file formats.  For example: HL7, EDI, HTML, CSV, Excel, JSON, XML.  List what data formats you're planning to use."
      ]
    },
    {
      "cell_type": "markdown",
      "metadata": {
        "id": "rO6YlqVT8pa6"
      },
      "source": [
        "**Double-click to enter your answer**\n",
        "\n",
        "**Diabetes dataset**\n",
        "\n",
        "*   Source : [Kaggle](https://www.kaggle.com/datasets/mathchi/diabetes-data-set/data)\n",
        "*   Format : CSV\n",
        "\n",
        "**Diabetes prediction dataset**\n",
        "\n",
        "*   Source : [data world](https://data.world/informatics-edu/diabetes-prediction/workspace/file?filename=Diabetes_Classification.xlsx)\n",
        "*   Format : Excel"
      ]
    },
    {
      "cell_type": "markdown",
      "metadata": {
        "id": "ETcnep6x8pa6"
      },
      "source": [
        "#### C. Objective\n",
        "\n",
        "What purpose would your project serve in a real work setting?  Take a couple of paragraphs to write down why this is an interesting product."
      ]
    },
    {
      "cell_type": "markdown",
      "metadata": {
        "id": "OYQoYgUK8pa6"
      },
      "source": [
        "**Double-click to enter your answer**\n",
        "\n",
        "These are just initial dataset. I think I may require some more datasets in more formats for my visualization while implementing my final project. This diabetes dataset presents a great chance for in-depth research and understanding. By using exploratory data analysis (EDA) and descriptive statistics, I am able to find patterns and trends in variables such as blood pressure, BMI, and glucose levels. Correlation analysis also makes it possible to comprehend the connections between various health markers. In addition to being educational for medical professionals, this study helps with the development of focused interventions and preventive measures.\n",
        "\n",
        "In the second dataset, for every patient there are several health-related variables includinig blood pressure readings at both the systolic and diastolic phases, waist and hip measurements, HDL (high-density lipoprotein) cholesterol, the ratio of total cholesterol to HDL, age, gender, height, weight, and BMI (body mass index). With all these factors, We have a column predicting diabetes. I can learn more about the patients metabolic profile, diabetes risk factors, and cardiovascular health by examining these variables. By observing patterns and correlations in these visualizations helps identifying factors that contribute to diabetes or other health disorders, as well as establishing relationship between other health measurements.\n",
        "\n",
        "I can make good data visualizations using both these diabetes and well informed analysis on diabetes and its factors. In real world seting, My project can be utilized by healthcare professionals, researchers, or public health agencies to conduct some studies and assess the risk factors with diabetes. It can help in identifying patterns and trends within a population, helping healthcare providers make informed decisions about preventive measures and intervention strategies."
      ]
    },
    {
      "cell_type": "markdown",
      "metadata": {
        "id": "OH9fFmEv8pa7"
      },
      "source": [
        "\n",
        "\n",
        "---\n",
        "\n",
        "\n",
        "\n",
        "## Submit your work via GitHub as normal\n"
      ]
    }
  ],
  "metadata": {
    "kernelspec": {
      "display_name": "Python 3",
      "language": "python",
      "name": "python3"
    },
    "language_info": {
      "codemirror_mode": {
        "name": "ipython",
        "version": 3
      },
      "file_extension": ".py",
      "mimetype": "text/x-python",
      "name": "python",
      "nbconvert_exporter": "python",
      "pygments_lexer": "ipython3",
      "version": "3.9.16"
    },
    "colab": {
      "provenance": [],
      "include_colab_link": true
    }
  },
  "nbformat": 4,
  "nbformat_minor": 0
}