{
  "cells": [
    {
      "cell_type": "markdown",
      "metadata": {
        "id": "view-in-github",
        "colab_type": "text"
      },
      "source": [
        "<a href=\"https://colab.research.google.com/github/syalam1998/hds5210-2023/blob/main/week06_assignment_2.ipynb\" target=\"_parent\"><img src=\"https://colab.research.google.com/assets/colab-badge.svg\" alt=\"Open In Colab\"/></a>"
      ]
    },
    {
      "cell_type": "markdown",
      "metadata": {
        "nbgrader": {
          "grade": false,
          "grade_id": "intro",
          "locked": true,
          "schema_version": 1,
          "solution": false
        },
        "id": "5-6RPr3whU5E"
      },
      "source": [
        "# Week 6 Exercises\n",
        "\n",
        "_McKinney 6.1_\n",
        "\n",
        "There are multiple ways to solve the problems below.  You can use any one of several approaches.  For example, you can read CSV files using Pandas or the csv module.  Your score won't depend on which modules you choose to use unless explicitly noted below, but your programming style will still matter."
      ]
    },
    {
      "cell_type": "markdown",
      "metadata": {
        "nbgrader": {
          "grade": false,
          "grade_id": "q1-description",
          "locked": true,
          "schema_version": 1,
          "solution": false
        },
        "id": "e1_-9U-nhU5H"
      },
      "source": [
        "### 30.1 List of Allergies\n",
        "\n",
        "In this GitHub repository, there is a file called `allergies.json` that contains a list of patient allergies.  You will need to download this [file from here](https://raw.githubusercontent.com/paulboal/hds5210-2023/main/week06/allergies.json) and then upload it into Google Colab to run these examples. It is taken from sample data provided by the EHR vendor, Epic, here: https://open.epic.com/Clinical/Allergy\n",
        "\n",
        "Take some time to look at the structure of the file.  You can open it directly in Jupyter by clicking the _Home_ icon, then the _from_instructor_ folder, and then the _data_ folder.\n",
        "\n",
        "Within the file, you'll see that it is a dictionary with many items in it.  One of those items is called `entry` and that item is a list of things.  You can tell that because the item name is immediately followed by an opening square bracket, signifying the start of a list.  It's line 11 of the file: `  \"entry\": [`\n",
        "\n",
        "Write a function named `allergy_count(json_file)` that takes as one parameter the name of the JSON file and returns an integer number of entries in that file.  Your function should open the file, read the json into a Python object, and return how many items there are in the list of `entry`s."
      ]
    },
    {
      "cell_type": "code",
      "execution_count": 22,
      "metadata": {
        "id": "yjY0_NXUhU5H"
      },
      "outputs": [],
      "source": [
        "import json\n",
        "ALLERGIES_FILE=\"allergies.json\""
      ]
    },
    {
      "cell_type": "code",
      "execution_count": 23,
      "metadata": {
        "nbgrader": {
          "grade": false,
          "grade_id": "q1-answer",
          "locked": false,
          "schema_version": 1,
          "solution": true
        },
        "colab": {
          "base_uri": "https://localhost:8080/"
        },
        "id": "Aq952TWKhU5I",
        "outputId": "0a708149-43ef-4ea8-e281-9011cfa26dff"
      },
      "outputs": [
        {
          "output_type": "stream",
          "name": "stdout",
          "text": [
            "Finding tests in NoName\n",
            "Trying:\n",
            "    allergy_count(ALLERGIES_FILE)\n",
            "Expecting:\n",
            "    4\n",
            "ok\n"
          ]
        }
      ],
      "source": [
        "import json\n",
        "def allergy_count(json_file):\n",
        "    \"\"\"\n",
        "    (Json File) -> int\n",
        "\n",
        "    This function counts number of entries in the given JSON file.\n",
        "    This function takes JSON file as input and iterates through all of the entries present in JSON file.\n",
        "    After Iterating throug all of the entries, It counts how many entries were present in JSON file.\n",
        "\n",
        "    >>> allergy_count(ALLERGIES_FILE)\n",
        "    4\n",
        "    \"\"\"\n",
        "    with open(json_file, 'r') as file:\n",
        "        data = json.load(file)\n",
        "        if 'entry' in data:\n",
        "            return len(data['entry'])\n",
        "        else :\n",
        "            return \"No entries found\"\n",
        "\n",
        "\n",
        "# importing doctest and running examples from docstring\n",
        "import doctest\n",
        "doctest.run_docstring_examples(allergy_count, globals(), verbose=True)\n"
      ]
    },
    {
      "cell_type": "code",
      "execution_count": 24,
      "metadata": {
        "colab": {
          "base_uri": "https://localhost:8080/"
        },
        "id": "37HmR1nBhU5J",
        "outputId": "59b6e5e3-8e28-40e2-92a2-086a40217319"
      },
      "outputs": [
        {
          "output_type": "execute_result",
          "data": {
            "text/plain": [
              "4"
            ]
          },
          "metadata": {},
          "execution_count": 24
        }
      ],
      "source": [
        "allergy_count(ALLERGIES_FILE)"
      ]
    },
    {
      "cell_type": "code",
      "execution_count": 25,
      "metadata": {
        "nbgrader": {
          "grade": true,
          "grade_id": "q1-tests",
          "locked": true,
          "points": 5,
          "schema_version": 1,
          "solution": false
        },
        "id": "cMaPDTQFhU5J"
      },
      "outputs": [],
      "source": [
        "assert type(allergy_count(ALLERGIES_FILE)) == int\n",
        "assert allergy_count(ALLERGIES_FILE) == 4"
      ]
    },
    {
      "cell_type": "markdown",
      "metadata": {
        "id": "zpWBnlgfhU5J"
      },
      "source": [
        "### 30.2 Number of Patients\n",
        "\n",
        "If you dig a little bit deaper into this list of allergies, you'll see that each result has a patient associated with it.  Create a funcation called `patient_count(json_file)` that will count how many unique patients we have in this JSON structure.  "
      ]
    },
    {
      "cell_type": "code",
      "execution_count": 26,
      "metadata": {
        "colab": {
          "base_uri": "https://localhost:8080/"
        },
        "id": "VN4JyGJ0hU5J",
        "outputId": "9825598a-cfcf-4fc7-96c9-b4bf22f231ce"
      },
      "outputs": [
        {
          "output_type": "stream",
          "name": "stdout",
          "text": [
            "Finding tests in NoName\n",
            "Trying:\n",
            "    patient_count(ALLERGIES_FILE)\n",
            "Expecting:\n",
            "    2\n",
            "ok\n"
          ]
        }
      ],
      "source": [
        "import json\n",
        "\n",
        "def patient_count(json_file):\n",
        "    \"\"\"\n",
        "    (Json File) -> int\n",
        "\n",
        "    This function counts number of unique patients in the given JSON file.\n",
        "    This function takes JSON file as input and iterates through all of the entries present in JSON file.\n",
        "    When Iterating through every entry, The patient name is stored in a set and finally returns the number of unique patients.\n",
        "\n",
        "    >>> patient_count(ALLERGIES_FILE)\n",
        "    2\n",
        "    \"\"\"\n",
        "    with open(json_file, 'r') as file:\n",
        "        data = json.load(file)\n",
        "        if 'entry' in data:\n",
        "            # A set to store unique patient identifiers\n",
        "            unique_patients = set()\n",
        "\n",
        "            # Iterating through the entries and extracting patient references\n",
        "            for entry in data['entry']:\n",
        "                if 'resource' in entry and 'patient' in entry['resource']:\n",
        "                    patient_reference = entry['resource']['patient']['display']\n",
        "                    unique_patients.add(patient_reference)\n",
        "\n",
        "            return len(unique_patients)\n",
        "        else:\n",
        "            return \"No entries found\"\n",
        "\n",
        "# importing doctest and running examples from docstring\n",
        "import doctest\n",
        "doctest.run_docstring_examples(patient_count, globals(), verbose=True)\n"
      ]
    },
    {
      "cell_type": "code",
      "execution_count": 27,
      "metadata": {
        "colab": {
          "base_uri": "https://localhost:8080/"
        },
        "id": "foe_c5vxhU5K",
        "outputId": "33f967a6-afdd-4bdc-9254-d6713242e5ba"
      },
      "outputs": [
        {
          "output_type": "execute_result",
          "data": {
            "text/plain": [
              "2"
            ]
          },
          "metadata": {},
          "execution_count": 27
        }
      ],
      "source": [
        "patient_count(ALLERGIES_FILE)"
      ]
    },
    {
      "cell_type": "code",
      "execution_count": 28,
      "metadata": {
        "id": "EGZ_z9mQhU5K"
      },
      "outputs": [],
      "source": [
        "assert type(patient_count(ALLERGIES_FILE)) == int\n",
        "assert patient_count(ALLERGIES_FILE) == 2"
      ]
    },
    {
      "cell_type": "markdown",
      "metadata": {
        "id": "_A7wodeqhU5K"
      },
      "source": [
        "### 30.3 How Many Allergies per Patient\n",
        "\n",
        "Although each entry is a separate allergy, several of them are for the same patient.  Write a function called `allergy_per_patient(json_file)` that counts up how many allergies each patient has.\n"
      ]
    },
    {
      "cell_type": "code",
      "execution_count": 29,
      "metadata": {
        "colab": {
          "base_uri": "https://localhost:8080/"
        },
        "id": "IRSW_lF8hU5K",
        "outputId": "ea2e0a86-1ad9-4c3d-8417-cb0a0a284ecc"
      },
      "outputs": [
        {
          "output_type": "stream",
          "name": "stdout",
          "text": [
            "Finding tests in NoName\n",
            "Trying:\n",
            "    allergy_per_patient(ALLERGIES_FILE)\n",
            "Expecting:\n",
            "    {'Jason Argonaut': 3, 'Paul Boal': 1}\n",
            "ok\n"
          ]
        }
      ],
      "source": [
        "import json\n",
        "from collections import defaultdict\n",
        "\n",
        "def allergy_per_patient(json_file):\n",
        "  \"\"\"\n",
        "    (Json File) -> dict\n",
        "\n",
        "    This function counts number of allergies per patient in the given JSON file.\n",
        "    This function takes JSON file as input and iterates through all of the entries present in JSON file.\n",
        "    After Iterating throug all of the entries, It adds the patient name and counts allergies of that patient and finally returns that dictionary\n",
        "\n",
        "    >>> allergy_per_patient(ALLERGIES_FILE)\n",
        "    {'Jason Argonaut': 3, 'Paul Boal': 1}\n",
        "    \"\"\"\n",
        "  with open(json_file, 'r') as file:\n",
        "    data = json.load(file)\n",
        "    if 'entry' in data:\n",
        "        # creating a dictionary\n",
        "        allergies_per_patient = defaultdict(int)\n",
        "\n",
        "          # Iterating through the entries and extract patient and allergy information\n",
        "        for entry in data['entry']:\n",
        "            if 'resource' in entry and 'patient' in entry['resource'] and 'substance' in entry['resource']:\n",
        "                patient_reference = entry['resource']['patient']['display']\n",
        "                allergies_per_patient[patient_reference] += 1\n",
        "\n",
        "        return dict(allergies_per_patient)\n",
        "\n",
        "\n",
        "# importing doctest and running examples from docstring\n",
        "import doctest\n",
        "doctest.run_docstring_examples(allergy_per_patient, globals(), verbose=True)\n"
      ]
    },
    {
      "cell_type": "code",
      "execution_count": 30,
      "metadata": {
        "colab": {
          "base_uri": "https://localhost:8080/"
        },
        "id": "jBa3nK5shU5K",
        "outputId": "82371b50-d325-4e3f-92fb-adcbb9c03c24"
      },
      "outputs": [
        {
          "output_type": "execute_result",
          "data": {
            "text/plain": [
              "{'Jason Argonaut': 3, 'Paul Boal': 1}"
            ]
          },
          "metadata": {},
          "execution_count": 30
        }
      ],
      "source": [
        "allergy_per_patient(ALLERGIES_FILE)"
      ]
    },
    {
      "cell_type": "code",
      "execution_count": 31,
      "metadata": {
        "id": "GvinkfbJhU5L"
      },
      "outputs": [],
      "source": [
        "assert type(allergy_per_patient(ALLERGIES_FILE)) == dict\n",
        "assert allergy_per_patient(ALLERGIES_FILE) == {'Paul Boal': 1, 'Jason Argonaut': 3}"
      ]
    },
    {
      "cell_type": "markdown",
      "metadata": {
        "nbgrader": {
          "grade": false,
          "grade_id": "q2-question",
          "locked": true,
          "schema_version": 1,
          "solution": false
        },
        "id": "rq9ySTHghU5L"
      },
      "source": [
        "### 30.4 Patient Allergies and Reaction\n",
        "\n",
        "You'll see in the file that each of the items in the `entry` list have several other attributes including a patient name, substance text representation, and a reaction manifestation.  Create a function named `allergy_list(json_file)` that will create an output list that has patient name, allergy, and reaction for each `entry`.  The actual result you should get will be:\n",
        "\n",
        "```python\n",
        "[['Jason Argonaut', 'PENICILLIN G', 'Hives'],\n",
        " ['Paul Boal', 'PENICILLIN G', 'Bruising'],\n",
        " ['Jason Argonaut', 'SHELLFISH-DERIVED PRODUCTS', 'Itching'],\n",
        " ['Jason Argonaut', 'STRAWBERRY', 'Anaphylaxis']]\n",
        "```\n",
        "\n",
        "You'll notice that the reaction and the manifestation of that action are lists.  You only need to capture the first reaction and the first manifestation of the action.  That is, if there is a list of things, just output the first one."
      ]
    },
    {
      "cell_type": "code",
      "execution_count": 32,
      "metadata": {
        "nbgrader": {
          "grade": false,
          "grade_id": "q2-answer",
          "locked": false,
          "schema_version": 1,
          "solution": true
        },
        "colab": {
          "base_uri": "https://localhost:8080/"
        },
        "id": "FHwdJob1hU5L",
        "outputId": "0fa42ce8-188e-4087-b73c-423551feb11c"
      },
      "outputs": [
        {
          "output_type": "stream",
          "name": "stdout",
          "text": [
            "Finding tests in NoName\n",
            "Trying:\n",
            "    allergy_list(ALLERGIES_FILE)\n",
            "Expecting:\n",
            "    [['Jason Argonaut', 'PENICILLIN G', 'Hives'], ['Jason Argonaut', 'SHELLFISH-DERIVED PRODUCTS', 'Itching'], ['Jason Argonaut', 'STRAWBERRY', 'Anaphylaxis'], ['Paul Boal', 'PENICILLIN G', 'Bruising']]\n",
            "ok\n"
          ]
        }
      ],
      "source": [
        "import json\n",
        "\n",
        "def allergy_list(json_file):\n",
        "    \"\"\"\n",
        "    (Json File) -> List of lists\n",
        "\n",
        "    This function lists all the patient names, their allergy and its reaction\n",
        "    This function takes JSON file as input and iterates through all of the entries present in JSON file.\n",
        "    After Iterating throug all of the entries, It adds each patient name and extracts their allergy, reaction from the entry and adds it to the list of lists.\n",
        "    Finally that allergy list is returned.\n",
        "\n",
        "    >>> allergy_list(ALLERGIES_FILE)\n",
        "    [['Jason Argonaut', 'PENICILLIN G', 'Hives'], ['Jason Argonaut', 'SHELLFISH-DERIVED PRODUCTS', 'Itching'], ['Jason Argonaut', 'STRAWBERRY', 'Anaphylaxis'], ['Paul Boal', 'PENICILLIN G', 'Bruising']]\n",
        "    \"\"\"\n",
        "    with open(json_file, 'r') as file:\n",
        "        data = json.load(file)\n",
        "        if 'entry' in data:\n",
        "            output_list = []\n",
        "\n",
        "            for entry in data['entry']:\n",
        "                if 'resource' in entry and 'patient' in entry['resource'] and 'substance' in entry['resource']:\n",
        "                    patient_name = entry['resource']['patient']['display']\n",
        "                    allergy = entry['resource']['substance']['text']\n",
        "\n",
        "                    # Extracting the first reaction and manifestation if they exist\n",
        "                    reaction = entry['resource'].get('reaction', [{}])[0].get('manifestation', [''])[0].get('text', [''][0])\n",
        "\n",
        "                    output_list.append([patient_name, allergy, reaction])\n",
        "\n",
        "            return output_list\n",
        "\n",
        "# importing doctest and running examples from docstring\n",
        "import doctest\n",
        "doctest.run_docstring_examples(allergy_list, globals(), verbose=True)"
      ]
    },
    {
      "cell_type": "code",
      "execution_count": 33,
      "metadata": {
        "colab": {
          "base_uri": "https://localhost:8080/"
        },
        "id": "nouHqq5vhU5L",
        "outputId": "d448b362-ba57-4995-8369-24506b6f98de"
      },
      "outputs": [
        {
          "output_type": "execute_result",
          "data": {
            "text/plain": [
              "[['Jason Argonaut', 'PENICILLIN G', 'Hives'],\n",
              " ['Jason Argonaut', 'SHELLFISH-DERIVED PRODUCTS', 'Itching'],\n",
              " ['Jason Argonaut', 'STRAWBERRY', 'Anaphylaxis'],\n",
              " ['Paul Boal', 'PENICILLIN G', 'Bruising']]"
            ]
          },
          "metadata": {},
          "execution_count": 33
        }
      ],
      "source": [
        "allergy_list(ALLERGIES_FILE)"
      ]
    },
    {
      "cell_type": "code",
      "execution_count": 34,
      "metadata": {
        "nbgrader": {
          "grade": true,
          "grade_id": "q2-tests",
          "locked": true,
          "points": 10,
          "schema_version": 1,
          "solution": false
        },
        "id": "qTxAC_iMhU5L"
      },
      "outputs": [],
      "source": [
        "assert allergy_list(ALLERGIES_FILE) == [['Jason Argonaut', 'PENICILLIN G', 'Hives'],\n",
        " ['Jason Argonaut', 'SHELLFISH-DERIVED PRODUCTS', 'Itching'],\n",
        " ['Jason Argonaut', 'STRAWBERRY', 'Anaphylaxis'],\n",
        " ['Paul Boal', 'PENICILLIN G', 'Bruising']]\n"
      ]
    },
    {
      "cell_type": "markdown",
      "metadata": {
        "nbgrader": {
          "grade": false,
          "grade_id": "q3-question",
          "locked": true,
          "schema_version": 1,
          "solution": false
        },
        "id": "0ZyGsk8bhU5L"
      },
      "source": [
        "### 30.5 Allergy Reaction\n",
        "\n",
        "Write a function called `allergy_reaction(json_file,patient,substance)` that takes three parameter and returns the reaction that will happen if the patient takes the specified substance.  You can solve this, in part, by calling your `allergy_list` function inside your new `allergy_reaction` function.\n",
        "\n",
        "If the substance is not found in the allergy list, the function should return None."
      ]
    },
    {
      "cell_type": "code",
      "execution_count": 35,
      "metadata": {
        "nbgrader": {
          "grade": false,
          "grade_id": "q3-answer",
          "locked": false,
          "schema_version": 1,
          "solution": true
        },
        "colab": {
          "base_uri": "https://localhost:8080/"
        },
        "id": "8iI87i-zhU5L",
        "outputId": "3fca9de4-e1ff-4598-9e05-d5f437f56b94"
      },
      "outputs": [
        {
          "output_type": "stream",
          "name": "stdout",
          "text": [
            "Finding tests in NoName\n",
            "Trying:\n",
            "    allergy_reaction(ALLERGIES_FILE, 'Jason Argonaut', 'PENICILLIN G')\n",
            "Expecting:\n",
            "    'Hives'\n",
            "ok\n",
            "Trying:\n",
            "    allergy_reaction(ALLERGIES_FILE, 'Jason Argonaut', 'SHELLFISH-DERIVED PRODUCTS') \n",
            "Expecting:\n",
            "    'Itching'\n",
            "ok\n",
            "Trying:\n",
            "    allergy_reaction(ALLERGIES_FILE, 'Jason Argonaut', 'STRAWBERRY') \n",
            "Expecting:\n",
            "    'Anaphylaxis'\n",
            "ok\n",
            "Trying:\n",
            "    allergy_reaction(ALLERGIES_FILE, 'Jason Argonaut', 'PENICILLIN')  \n",
            "Expecting nothing\n",
            "ok\n",
            "Trying:\n",
            "    allergy_reaction(ALLERGIES_FILE, 'Paul Boal', 'PENICILLIN G')  \n",
            "Expecting:\n",
            "    'Bruising'\n",
            "ok\n"
          ]
        }
      ],
      "source": [
        "def allergy_reaction(json_file, patient, substance):\n",
        "    \"\"\"\n",
        "    (Json File,String,String) -> String\n",
        "\n",
        "    This function takes the JSON file, patient name and specified substance and returns the reaction that\n",
        "    will happen when that particular patient takes that substance\n",
        "\n",
        "    This function first runs the function allergy_list and next finds out the given patient name in allergies list\n",
        "    and returns the reaction name if the given substance also matches in the entry of allergies list. If no reaction\n",
        "    is found, it function returns None.\n",
        "\n",
        "    >>> allergy_reaction(ALLERGIES_FILE, 'Jason Argonaut', 'PENICILLIN G')\n",
        "    'Hives'\n",
        "    >>> allergy_reaction(ALLERGIES_FILE, 'Jason Argonaut', 'SHELLFISH-DERIVED PRODUCTS')\n",
        "    'Itching'\n",
        "    >>> allergy_reaction(ALLERGIES_FILE, 'Jason Argonaut', 'STRAWBERRY')\n",
        "    'Anaphylaxis'\n",
        "    >>> allergy_reaction(ALLERGIES_FILE, 'Jason Argonaut', 'PENICILLIN')\n",
        "\n",
        "    >>> allergy_reaction(ALLERGIES_FILE, 'Paul Boal', 'PENICILLIN G')\n",
        "    'Bruising'\n",
        "    \"\"\"\n",
        "    # Get the list of allergies using the allergy_list function\n",
        "    allergies = allergy_list(json_file)\n",
        "\n",
        "    # Iterating through the allergies to find a match for the specified patient and substance\n",
        "    for entry in allergies:\n",
        "        patient_name, allergy, reaction = entry\n",
        "\n",
        "        if patient_name == patient and allergy == substance:\n",
        "            return reaction\n",
        "\n",
        "# importing doctest and running examples from docstring\n",
        "import doctest\n",
        "doctest.run_docstring_examples(allergy_reaction, globals(), verbose=True)\n"
      ]
    },
    {
      "cell_type": "code",
      "execution_count": 36,
      "metadata": {
        "colab": {
          "base_uri": "https://localhost:8080/",
          "height": 35
        },
        "id": "vGSO_E_xhU5L",
        "outputId": "dea19c9e-d15f-4e89-9c15-9943d9a7c89d"
      },
      "outputs": [
        {
          "output_type": "execute_result",
          "data": {
            "text/plain": [
              "'Hives'"
            ],
            "application/vnd.google.colaboratory.intrinsic+json": {
              "type": "string"
            }
          },
          "metadata": {},
          "execution_count": 36
        }
      ],
      "source": [
        "allergy_reaction(ALLERGIES_FILE, 'Jason Argonaut', 'PENICILLIN G')"
      ]
    },
    {
      "cell_type": "code",
      "execution_count": 37,
      "metadata": {
        "nbgrader": {
          "grade": true,
          "grade_id": "q3-tests",
          "locked": true,
          "points": 5,
          "schema_version": 1,
          "solution": false
        },
        "id": "99kTYL93hU5L"
      },
      "outputs": [],
      "source": [
        "assert allergy_reaction(ALLERGIES_FILE, 'Jason Argonaut', 'PENICILLIN G') == 'Hives'\n",
        "assert allergy_reaction(ALLERGIES_FILE, 'Jason Argonaut', 'SHELLFISH-DERIVED PRODUCTS') == 'Itching'\n",
        "assert allergy_reaction(ALLERGIES_FILE, 'Jason Argonaut', 'STRAWBERRY') == 'Anaphylaxis'\n",
        "assert allergy_reaction(ALLERGIES_FILE, 'Jason Argonaut', 'PENICILLIN') == None\n",
        "assert allergy_reaction(ALLERGIES_FILE, 'Paul Boal', 'PENICILLIN G') == 'Bruising'"
      ]
    },
    {
      "cell_type": "markdown",
      "metadata": {
        "id": "EEs0Vv-GhU5L"
      },
      "source": [
        "---\n",
        "\n",
        "## Check your work above\n",
        "\n",
        "If you didn't get them all correct, take a few minutes to think through those that aren't correct.\n",
        "\n",
        "\n",
        "## Submitting Your Work\n",
        "\n",
        "In order to submit your work, you'll need to save this notebook file back to GitHub.  To do that in Google Colab:\n",
        "1. File -> Save a Copy in GitHub\n",
        "2. Make sure your HDS5210 repository is selected\n",
        "3. Make sure the file name includes the week number like this: `week06/week06_assignment_2.ipynb`\n",
        "4. Add a commit message that means something\n",
        "\n",
        "**Be sure week names are lowercase and use a two digit week number!!**\n",
        "\n",
        "**Be sure you use the same file name provided by the instructor!!**\n",
        "\n"
      ]
    }
  ],
  "metadata": {
    "celltoolbar": "Create Assignment",
    "kernelspec": {
      "display_name": "Python 3",
      "language": "python",
      "name": "python3"
    },
    "language_info": {
      "codemirror_mode": {
        "name": "ipython",
        "version": 3
      },
      "file_extension": ".py",
      "mimetype": "text/x-python",
      "name": "python",
      "nbconvert_exporter": "python",
      "pygments_lexer": "ipython3",
      "version": "3.11.6"
    },
    "colab": {
      "provenance": [],
      "include_colab_link": true
    }
  },
  "nbformat": 4,
  "nbformat_minor": 0
}