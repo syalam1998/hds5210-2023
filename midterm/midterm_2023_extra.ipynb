{
  "cells": [
    {
      "cell_type": "markdown",
      "metadata": {
        "id": "view-in-github",
        "colab_type": "text"
      },
      "source": [
        "<a href=\"https://colab.research.google.com/github/syalam1998/hds5210-2023/blob/main/midterm/midterm_2023_extra.ipynb\" target=\"_parent\"><img src=\"https://colab.research.google.com/assets/colab-badge.svg\" alt=\"Open In Colab\"/></a>"
      ]
    },
    {
      "cell_type": "markdown",
      "metadata": {
        "id": "jtdfvXsgZpjj"
      },
      "source": [
        "# Extra Credit\n",
        "\n",
        "For upto an additional 15 extra credit points on the midterm exam, you can write another function that applies additional criteria on top of what the midterm already did.  To earn the addition points, you need write a function called `summarize_results(patients)` to take the output of your  `process_people()` function to apply a new business rule and summarize the results.\n",
        "\n",
        "* Your function should take the dictionary created by `process_people()` as it's one input parameter: `patients`.\n",
        "* If the PRIEST probably is less than 10%, change the `hospital` and `address` to both have a value of `'Home'` indicating patients with a lower probability of an adverse outcome can just go home rather than be admitted to a hospital.\n",
        "* Summarize those results and count how many patients are now being sent to each location.  Your result should have the following format:\n",
        "```\n",
        "{\n",
        "    \"Home\": 123,\n",
        "    \"Hospital A\": 10,\n",
        "    \"Hospital B\": 20,\n",
        "    \"Hospital C\": 30\n",
        "}\n",
        "```\n",
        "\n",
        "As always, your function needs good docstrings; but does not require any doctests in this case."
      ]
    },
    {
      "cell_type": "code",
      "execution_count": 3,
      "metadata": {
        "id": "P7yBt8MJZpjm"
      },
      "outputs": [],
      "source": [
        "def summarize_results(patients):\n",
        "    \"\"\"\n",
        "    (dictionary) -> dictionary\n",
        "\n",
        "    This function is used to count number of patients having risk percentage lower than 10%\n",
        "    This function takes patient data in the form of dictinoary and returns a dictionary which contains count of patients in every hospital\n",
        "    This function checks if the risk percentage is lower than 10% or not.\n",
        "    If it is less than 10%, It adds to the \"Home\" keyword in result dictionary.\n",
        "    If it is not less than 10%. Then it adds that hospital name to result dictionary and counts it.\n",
        "    At last, It returns the final dictionary which contains the hsopital names and number of patients assigned to that hospital. And also it has \"Home\" keyword with number of patients with less risk probability.\n",
        "\n",
        "    Below is a test written to check the output:\n",
        "    >>> print(summarize_results(process_people(file_url)))\n",
        "    {'Home': 24, 'Select Specialty Hospital - Northeast Atlanta': 32, 'Wesley Woods Geriatric Hospital': 20, 'Southwest Hospital and Medical Center': 16, 'Childrens Healthcare of Atlanta at Scottish Rite': 1, 'Hughes Spalding Childrens Hospital': 1, 'Emory Dunwoody Medical Center': 5}\n",
        "    \"\"\"\n",
        "    # Decalring a result dictionary and adding an element \"Home\" : 0\n",
        "    results = {\n",
        "        \"Home\": 0\n",
        "    }\n",
        "\n",
        "    # Loop through the patient data and apply the custom rule\n",
        "    for patient_id, data in patients.items():\n",
        "        # Check if the risk percentage is below 10%\n",
        "        if len(data) > 10 and data[10] < 0.10 :\n",
        "            # If the risk percentage is low, assign the location as 'Home'\n",
        "            location = \"Home\"\n",
        "        else:\n",
        "            # else, assign hospital name to location\n",
        "            location = data[11]\n",
        "\n",
        "        # Update the location counts\n",
        "        if location in results:\n",
        "            results[location] += 1\n",
        "        else:\n",
        "            # Handle new location names by adding them to the dictionary\n",
        "            results[location] = 1\n",
        "\n",
        "    return results\n"
      ]
    },
    {
      "cell_type": "code",
      "source": [
        "import doctest\n",
        "doctest.run_docstring_examples(summarize_results, globals(),verbose=True)"
      ],
      "metadata": {
        "colab": {
          "base_uri": "https://localhost:8080/"
        },
        "id": "jugfee8-awon",
        "outputId": "b7508262-3db9-4fc6-b6d9-fb82bb5dc4d9"
      },
      "execution_count": 5,
      "outputs": [
        {
          "output_type": "stream",
          "name": "stdout",
          "text": [
            "Finding tests in NoName\n",
            "Trying:\n",
            "    print(summarize_results(process_people(file_url)))\n",
            "Expecting:\n",
            "    {'Home': 24, 'Select Specialty Hospital - Northeast Atlanta': 32, 'Wesley Woods Geriatric Hospital': 20, 'Southwest Hospital and Medical Center': 16, 'Childrens Healthcare of Atlanta at Scottish Rite': 1, 'Hughes Spalding Childrens Hospital': 1, 'Emory Dunwoody Medical Center': 5}\n",
            "ok\n"
          ]
        }
      ]
    }
  ],
  "metadata": {
    "kernelspec": {
      "display_name": ".venv",
      "language": "python",
      "name": "python3"
    },
    "language_info": {
      "codemirror_mode": {
        "name": "ipython",
        "version": 3
      },
      "file_extension": ".py",
      "mimetype": "text/x-python",
      "name": "python",
      "nbconvert_exporter": "python",
      "pygments_lexer": "ipython3",
      "version": "3.9.16"
    },
    "colab": {
      "provenance": [],
      "include_colab_link": true
    }
  },
  "nbformat": 4,
  "nbformat_minor": 0
}